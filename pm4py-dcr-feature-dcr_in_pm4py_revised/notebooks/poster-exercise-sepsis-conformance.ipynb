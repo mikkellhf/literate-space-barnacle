{
 "cells": [
  {
   "cell_type": "code",
   "source": [
    "%load_ext autoreload\n",
    "%autoreload 2\n",
    "import os\n",
    "print(os.getcwd())\n",
    "to_run = True\n",
    "if to_run:\n",
    "    os.chdir('..')\n",
    "    to_run = False\n",
    "print(os.getcwd())"
   ],
   "metadata": {
    "collapsed": false
   },
   "id": "7934b50c6d0981ed",
   "outputs": [],
   "execution_count": null
  },
  {
   "cell_type": "code",
   "source": [
    "import pandas as pd\n",
    "import pm4py\n",
    "from copy import deepcopy"
   ],
   "metadata": {
    "collapsed": false
   },
   "id": "7245a3ea45382e18",
   "outputs": [],
   "execution_count": null
  },
  {
   "cell_type": "markdown",
   "source": [
    "Note: The pm4py library we use in the notebook is an extension with DCR from the original pm4py library. You will find more information on using pm4py here\n",
    "\n",
    "https://pm4py.fit.fraunhofer.de/documentation."
   ],
   "metadata": {
    "collapsed": false
   },
   "id": "328fa7eb7f656f72"
  },
  {
   "cell_type": "markdown",
   "source": [
    "# Event log data analysis\n",
    "Note: sepsis_df is a pandas dataframe. Feel free to use your knowledge of data frames and data analysis as you see fit. Exploratory Data Analysis (EDA) as you know it from Data Science should work as expected."
   ],
   "metadata": {
    "collapsed": false
   },
   "id": "77e1a80616bec052"
  },
  {
   "cell_type": "code",
   "source": [
    "event_log_file = 'notebooks/data/Sepsis Cases - Event Log.xes'\n",
    "sepsis_df = pm4py.read_xes(event_log_file, infer_datetime_format=True) #loading the log\n",
    "sepsis_df # note there are many NaN values, this is expected. When you have a not NaN value look at the concept:name to understand the link between the data attribute and the event."
   ],
   "metadata": {
    "collapsed": false
   },
   "id": "337aa17045479873",
   "outputs": [],
   "execution_count": null
  },
  {
   "cell_type": "code",
   "source": [
    "returning = sepsis_df[sepsis_df['concept:name']=='Return ER']['case:concept:name'].unique().tolist()"
   ],
   "metadata": {
    "collapsed": false
   },
   "id": "dfa50b10851fd340",
   "outputs": [],
   "execution_count": null
  },
  {
   "cell_type": "markdown",
   "source": [
    "# Part 2.1 Process discovery\n",
    "Note: The model mined with this version of DisCoveR is more complex than the one from the dcrgraphs.net portal. It finds more relations.\n",
    "\n",
    "Note 2: 'conditionsFor' represents the inverse reading of a condition arrow (this was done for efficient checking of the enabledness definition). \n",
    "    For example, you should read that 'Release D' is a conditionFor 'Return ER' ('Release D'-->*'Return ER'), but in the python object you will see it as 'conditionsFor': 'Return ER' {'Release D',...\n",
    "\n",
    "Note 3: The other relations 'includesTo' (-->+), 'excludesTo' (-->%), 'responseTo' (*-->) are represented in the python object in the same direction as the arrows indicate. \n",
    "    For example, 'excludesTo': { ... 'Return ER': {'Return ER', 'Release B' ... encodes the visual self exclusion on 'Return ER' and that 'Return ER' excludes 'Release B' ('Return ER' -->% 'Release B') "
   ],
   "metadata": {
    "collapsed": false
   },
   "id": "d5fde1dea740411a"
  },
  {
   "cell_type": "code",
   "source": [
    "dcr_sepsis, log_abstraction = pm4py.discover_dcr(sepsis_df) # this discovers a model for the whole log\n",
    "print('Inspect the mined DCR Graph from pm4py')\n",
    "print(f'[Found relations] {dcr_sepsis.get_constraints()}')\n",
    "print(f'[conditionsFor] {dcr_sepsis.conditions}')\n",
    "print(f'[excludesTo] {dcr_sepsis.excludes}')\n",
    "# when you discover (mine) a DCR Graph the marking you get will have all events included, none executed and none pending\n",
    "print(f'[marking executed] {dcr_sepsis.marking.executed}')\n",
    "print(f'[marking included] {dcr_sepsis.marking.included}')\n",
    "print(f'[marking pending] {dcr_sepsis.marking.pending}')\n",
    "pm4py.view_dcr(dcr_sepsis)"
   ],
   "metadata": {
    "collapsed": false
   },
   "id": "427198a58b95f5f5",
   "outputs": [],
   "execution_count": null
  },
  {
   "cell_type": "markdown",
   "source": [
    "Example: play with the execution semantics in the notebook"
   ],
   "metadata": {
    "collapsed": false
   },
   "id": "32e61a93d241a6ea"
  },
  {
   "cell_type": "code",
   "source": [
    "def execute_and_check(event_to_execute,dcr_graph, dcr_semantics):\n",
    "    enabled_events = dcr_semantics.enabled(dcr_graph)\n",
    "    print(f'[Before executing {event_to_execute}] Enabled events: {enabled_events}') # check enabled events\n",
    "    if event_to_execute in enabled_events: # check if I can execute the event_to_execute\n",
    "        dcr_graph_new_marking = dcr_semantics.execute(dcr_graph,event_to_execute) # here you execute the event and change the state of the dcr graph\n",
    "        print(f'[ After executing {event_to_execute}] Enabled events: {dcr_semantics.enabled(dcr_graph_new_marking)}') # now these are the newly enabled events\n",
    "        print(f'[Is the graph accepting?] {dcr_semantics.is_accepting(dcr_graph_new_marking)}')\n",
    "        return dcr_graph_new_marking\n",
    "    else:\n",
    "        print(f'[Error!] {event_to_execute} not in the set of enabled events')\n",
    "        return dcr_graph\n",
    "\n",
    "from pm4py.objects.dcr.semantics import DcrSemantics\n",
    "\n",
    "temp_dcr = deepcopy(dcr_sepsis)\n",
    "dcr_semantics = DcrSemantics()\n",
    "event_to_execute1 = 'CRP' # update this event in order to simulate the execution of the event\n",
    "temp_dcr = execute_and_check(event_to_execute1,temp_dcr,dcr_semantics)\n",
    "event_to_execute2 = 'ER Sepsis Triage' # update this event in order to simulate the execution of the event\n",
    "temp_dcr = execute_and_check(event_to_execute2,temp_dcr,dcr_semantics)"
   ],
   "metadata": {
    "collapsed": false
   },
   "id": "c0a8f21a2b4b65c5",
   "outputs": [],
   "execution_count": null
  },
  {
   "cell_type": "markdown",
   "source": [
    "2.3 (in the notebook): Now I can make 'Release D' pending. This has an effect on my acceptance criteria. Also I cannot execute 'Release D' yet, because I have to satisfy the condition chain which will eventually enable 'Release D'.\n",
    "What is the minimal sequence of events I need to execute before I am able to execute 'Release D' and return into an accepting state for my DCR Graph? "
   ],
   "metadata": {
    "collapsed": false
   },
   "id": "228fe891ace2fdce"
  },
  {
   "cell_type": "code",
   "source": [
    "temp_dcr = deepcopy(dcr_sepsis)\n",
    "dcr_semantics = DcrSemantics()\n",
    "temp_dcr.marking.pending.add('Release D')\n",
    "print(f'[marking pending] {temp_dcr.marking.pending}')\n",
    "#TODO: execute the minimum number of events to enable 'Release D'\n",
    "for event in ['ER Registration','ER Triage', 'Admission NC', 'ER Sepsis Triage', 'CRP', 'Leucocytes', 'Release D']:\n",
    "    temp_dcr = execute_and_check(event,temp_dcr,dcr_semantics)"
   ],
   "metadata": {
    "collapsed": false
   },
   "id": "5a1b3dde89450345",
   "outputs": [],
   "execution_count": null
  },
  {
   "metadata": {
    "collapsed": false
   },
   "cell_type": "code",
   "source": [
    "returning_df =sepsis_df[sepsis_df['case:concept:name'].isin(returning)]\n",
    "non_returning_df = sepsis_df[~sepsis_df['case:concept:name'].isin(returning)]\n",
    "#TODO: 1.5 run DisCoveR, export to the models folder, load them into the portal, run some descriptive statistics as seen above on the two subsets.\n",
    "non_returning_dcr, _ = pm4py.discover_dcr(non_returning_df)\n",
    "returning_dcr, _ = pm4py.discover_dcr(returning_df)"
   ],
   "id": "a6bc224b08093e2b",
   "outputs": [],
   "execution_count": null
  },
  {
   "metadata": {},
   "cell_type": "code",
   "source": [
    "pm4py.save_vis_dcr(returning_dcr,file_path='notebooks/img/returning_conformance.png')\n",
    "pm4py.view_dcr(returning_dcr)\n",
    "pm4py.save_vis_dcr(non_returning_dcr,file_path='notebooks/img/non_returning_conformance.png')\n",
    "pm4py.view_dcr(non_returning_dcr)"
   ],
   "id": "fc29de7f573447c5",
   "outputs": [],
   "execution_count": null
  },
  {
   "cell_type": "markdown",
   "source": [
    "# Part 2.2 Conformance checking\n",
    "### Rule based conformance checking\n",
    "Note: Testing for conformance on the same data you used to discover your model will always be a perfect fit"
   ],
   "metadata": {
    "collapsed": false
   },
   "id": "a0da0e2d26112cbd"
  },
  {
   "cell_type": "code",
   "source": [
    "conformance_sepsis_df = pd.DataFrame(pm4py.conformance_dcr(sepsis_df,dcr_sepsis))\n",
    "print(f'[Deviation fitness] {conformance_sepsis_df[\"dev_fitness\"].mean()}')\n",
    "conformance_sepsis_df[conformance_sepsis_df['is_fit']==False]"
   ],
   "metadata": {
    "collapsed": false
   },
   "id": "c9389d3c82a5d693",
   "outputs": [],
   "execution_count": null
  },
  {
   "cell_type": "markdown",
   "source": [
    "### Choice conformance"
   ],
   "metadata": {
    "collapsed": false
   },
   "id": "4c14aa53d0853592"
  },
  {
   "metadata": {},
   "cell_type": "code",
   "source": [
    "choice_graph = deepcopy(dcr_sepsis)\n",
    "choice_graph.conditions = {}\n",
    "choice_graph.excludes = {'Admission NC':{'Admission NC','Admission IC'},'Admission IC':{'Admission IC','Admission NC'}}\n",
    "choice_graph.events = {'Admission NC','Admission IC'}\n",
    "choice_graph.marking.included = {'Admission NC','Admission IC'}\n",
    "pm4py.view_dcr(choice_graph)\n",
    "pm4py.save_vis_dcr(choice_graph,file_path='notebooks/img/choice_conformance.png')"
   ],
   "id": "7e62014c58b1bcf1",
   "outputs": [],
   "execution_count": null
  },
  {
   "metadata": {
    "collapsed": false
   },
   "cell_type": "code",
   "source": [
    "conformance_sepsis_df = pd.DataFrame(pm4py.conformance_dcr(sepsis_df, choice_graph))\n",
    "print(f'[Deviation fitness] {conformance_sepsis_df[\"dev_fitness\"].mean()}')\n",
    "print('Conforming traces:',len(conformance_sepsis_df[conformance_sepsis_df['is_fit']==True]))\n",
    "print('Non-conforming traces',len(conformance_sepsis_df[conformance_sepsis_df['is_fit']==False]))\n",
    "print(conformance_sepsis_df[conformance_sepsis_df['is_fit']==False]['deviations'].value_counts())"
   ],
   "id": "ee4df99cd1eec9b0",
   "outputs": [],
   "execution_count": null
  },
  {
   "cell_type": "code",
   "source": [
    "conformance_sepsis_df = pd.DataFrame(pm4py.conformance_dcr(returning_df, choice_graph))\n",
    "print(f'[Deviation fitness] {conformance_sepsis_df[\"dev_fitness\"].mean()}')\n",
    "print('Conforming traces:',len(conformance_sepsis_df[conformance_sepsis_df['is_fit']==True]))\n",
    "print('Non-conforming traces',len(conformance_sepsis_df[conformance_sepsis_df['is_fit']==False]))\n",
    "conformance_sepsis_df[conformance_sepsis_df['is_fit']==False]['deviations'].value_counts()"
   ],
   "metadata": {
    "collapsed": false
   },
   "id": "af2c6b18834b83b0",
   "outputs": [],
   "execution_count": null
  },
  {
   "cell_type": "code",
   "source": [
    "conformance_sepsis_df = pd.DataFrame(pm4py.conformance_dcr(non_returning_df, choice_graph))\n",
    "print(f'[Deviation fitness] {conformance_sepsis_df[\"dev_fitness\"].mean()}')\n",
    "print('Conforming traces:',len(conformance_sepsis_df[conformance_sepsis_df['is_fit']==True]))\n",
    "print('Non-conforming traces',len(conformance_sepsis_df[conformance_sepsis_df['is_fit']==False]))\n",
    "conformance_sepsis_df[conformance_sepsis_df['is_fit']==False]['deviations'].value_counts()"
   ],
   "metadata": {
    "collapsed": false
   },
   "id": "673dbd5f0152f184",
   "outputs": [],
   "execution_count": null
  },
  {
   "cell_type": "markdown",
   "source": [
    "### Sequence conformance"
   ],
   "metadata": {
    "collapsed": false
   },
   "id": "33f7eb4e747b8d80"
  },
  {
   "metadata": {},
   "cell_type": "code",
   "source": [
    "sequence_graph = deepcopy(dcr_sepsis)\n",
    "sequence_graph.conditions = {'ER Triage': {'ER Registration'}, 'ER Sepsis Triage':{'ER Triage'}}\n",
    "sequence_graph.excludes = {}\n",
    "sequence_graph.responses = {'ER Registration': {'ER Triage'}, 'ER Triage': {'ER Sepsis Triage'}}\n",
    "sequence_graph.events = {'ER Registration','ER Sepsis Triage','ER Triage'}\n",
    "sequence_graph.marking.included = {'ER Registration','ER Sepsis Triage','ER Triage'}\n",
    "pm4py.view_dcr(sequence_graph)\n",
    "pm4py.save_vis_dcr(sequence_graph,file_path='notebooks/img/sequence_conformance.png')"
   ],
   "id": "170194fca2d0118",
   "outputs": [],
   "execution_count": null
  },
  {
   "cell_type": "code",
   "source": [
    "conformance_sepsis_df = pd.DataFrame(pm4py.conformance_dcr(sepsis_df,sequence_graph))\n",
    "print(f'[Deviation fitness] {conformance_sepsis_df[\"dev_fitness\"].mean()}')\n",
    "print('Conforming traces:',len(conformance_sepsis_df[conformance_sepsis_df['is_fit']==True]))\n",
    "print('Non-conforming traces',len(conformance_sepsis_df[conformance_sepsis_df['is_fit']==False]))\n",
    "conformance_sepsis_df[conformance_sepsis_df['is_fit']==False]['deviations'].value_counts()"
   ],
   "metadata": {
    "collapsed": false
   },
   "id": "6ae7ed3bcb776a94",
   "outputs": [],
   "execution_count": null
  },
  {
   "metadata": {
    "collapsed": false
   },
   "cell_type": "code",
   "source": [
    "conformance_sepsis_df = pd.DataFrame(pm4py.conformance_dcr(returning_df,sequence_graph))\n",
    "print(f'[Deviation fitness] {conformance_sepsis_df[\"dev_fitness\"].mean()}')\n",
    "print('Conforming traces:',len(conformance_sepsis_df[conformance_sepsis_df['is_fit']==True]))\n",
    "print('Non-conforming traces',len(conformance_sepsis_df[conformance_sepsis_df['is_fit']==False]))\n",
    "conformance_sepsis_df[conformance_sepsis_df['is_fit']==False]['deviations'].value_counts()"
   ],
   "id": "54b89e569da50803",
   "outputs": [],
   "execution_count": null
  },
  {
   "metadata": {
    "collapsed": false
   },
   "cell_type": "code",
   "source": [
    "conformance_sepsis_df = pd.DataFrame(pm4py.conformance_dcr(non_returning_df,sequence_graph))\n",
    "print(f'[Deviation fitness] {conformance_sepsis_df[\"dev_fitness\"].mean()}')\n",
    "print('Conforming traces:',len(conformance_sepsis_df[conformance_sepsis_df['is_fit']==True]))\n",
    "print('Non-conforming traces',len(conformance_sepsis_df[conformance_sepsis_df['is_fit']==False]))\n",
    "conformance_sepsis_df[conformance_sepsis_df['is_fit']==False]['deviations'].value_counts()"
   ],
   "id": "c3add6af644abde7",
   "outputs": [],
   "execution_count": null
  },
  {
   "metadata": {},
   "cell_type": "markdown",
   "source": [
    "## Alignment based conformance\n",
    "Note: Testing for conformance on the same data you used to discover your model will always be a perfect fit"
   ],
   "id": "4ca8ab2ea5163435"
  },
  {
   "metadata": {
    "collapsed": false
   },
   "cell_type": "code",
   "source": [
    "alignment_sepsis_df = pd.DataFrame(pm4py.optimal_alignment_dcr(sepsis_df,dcr_sepsis))\n",
    "print(f'[Alignment fitness] {alignment_sepsis_df[\"fitness\"].mean()}')\n",
    "alignment_sepsis_df[alignment_sepsis_df['fitness']<1]"
   ],
   "id": "e2ea8008a3ff0c23",
   "outputs": [],
   "execution_count": null
  },
  {
   "metadata": {
    "collapsed": false
   },
   "cell_type": "code",
   "source": [
    "alignment_sepsis_df = pd.DataFrame(pm4py.optimal_alignment_dcr(sepsis_df,choice_graph))\n",
    "print(f'[Deviation fitness] {alignment_sepsis_df[\"fitness\"].mean()}')\n",
    "print(len(alignment_sepsis_df[alignment_sepsis_df['fitness']==1]))\n",
    "print(len(alignment_sepsis_df[alignment_sepsis_df['fitness']!=1]))\n",
    "alignment_sepsis_df[alignment_sepsis_df['fitness']!=1]['alignment'].value_counts()"
   ],
   "id": "a89f04809caaa02d",
   "outputs": [],
   "execution_count": null
  },
  {
   "metadata": {
    "collapsed": false
   },
   "cell_type": "code",
   "source": [
    "alignment_sepsis_df = pd.DataFrame(pm4py.optimal_alignment_dcr(returning_df,choice_graph))\n",
    "print(f'[Deviation fitness] {alignment_sepsis_df[\"fitness\"].mean()}')\n",
    "print(len(alignment_sepsis_df[alignment_sepsis_df['fitness']==1]))\n",
    "print(len(alignment_sepsis_df[alignment_sepsis_df['fitness']!=1]))\n",
    "alignment_sepsis_df[alignment_sepsis_df['fitness']!=1]['alignment'].value_counts()"
   ],
   "id": "476cd8eec7b79ec4",
   "outputs": [],
   "execution_count": null
  },
  {
   "metadata": {
    "collapsed": false
   },
   "cell_type": "code",
   "source": [
    "alignment_sepsis_df = pd.DataFrame(pm4py.optimal_alignment_dcr(non_returning_df, choice_graph))\n",
    "print(f'[Deviation fitness] {alignment_sepsis_df[\"fitness\"].mean()}')\n",
    "print(len(alignment_sepsis_df[alignment_sepsis_df['fitness']==1]))\n",
    "print(len(alignment_sepsis_df[alignment_sepsis_df['fitness']!=1]))\n",
    "alignment_sepsis_df[alignment_sepsis_df['fitness']!=1]['alignment'].value_counts()"
   ],
   "id": "98d1b37633197c68",
   "outputs": [],
   "execution_count": null
  },
  {
   "metadata": {
    "collapsed": false
   },
   "cell_type": "code",
   "source": [
    "alignment_sepsis_df = pd.DataFrame(pm4py.optimal_alignment_dcr(sepsis_df,sequence_graph))\n",
    "print(f'[Deviation fitness] {alignment_sepsis_df[\"fitness\"].mean()}')\n",
    "print(len(alignment_sepsis_df[alignment_sepsis_df['fitness']==1]))\n",
    "print(len(alignment_sepsis_df[alignment_sepsis_df['fitness']!=1]))\n",
    "alignment_sepsis_df[alignment_sepsis_df['fitness']!=1]['alignment'].value_counts()"
   ],
   "id": "cf9a159515b952d1",
   "outputs": [],
   "execution_count": null
  },
  {
   "metadata": {
    "collapsed": false
   },
   "cell_type": "code",
   "source": [
    "alignment_sepsis_df = pd.DataFrame(pm4py.optimal_alignment_dcr(returning_df,sequence_graph))\n",
    "print(f'[Deviation fitness] {alignment_sepsis_df[\"fitness\"].mean()}')\n",
    "print(len(alignment_sepsis_df[alignment_sepsis_df['fitness']==1]))\n",
    "print(len(alignment_sepsis_df[alignment_sepsis_df['fitness']!=1]))\n",
    "alignment_sepsis_df[alignment_sepsis_df['fitness']!=1]['alignment'].value_counts()"
   ],
   "id": "eac7dabbb184fb32",
   "outputs": [],
   "execution_count": null
  },
  {
   "metadata": {
    "collapsed": false
   },
   "cell_type": "code",
   "source": [
    "alignment_sepsis_df = pd.DataFrame(pm4py.optimal_alignment_dcr(non_returning_df,sequence_graph))\n",
    "print(f'[Deviation fitness] {alignment_sepsis_df[\"fitness\"].mean()}')\n",
    "print(len(alignment_sepsis_df[alignment_sepsis_df['fitness']==1]))\n",
    "print(len(alignment_sepsis_df[alignment_sepsis_df['fitness']!=1]))\n",
    "alignment_sepsis_df[alignment_sepsis_df['fitness']!=1]['alignment'].value_counts()"
   ],
   "id": "114ced4272fd7dea",
   "outputs": [],
   "execution_count": null
  }
 ],
 "metadata": {
  "kernelspec": {
   "display_name": "Python 3",
   "language": "python",
   "name": "python3"
  },
  "language_info": {
   "codemirror_mode": {
    "name": "ipython",
    "version": 2
   },
   "file_extension": ".py",
   "mimetype": "text/x-python",
   "name": "python",
   "nbconvert_exporter": "python",
   "pygments_lexer": "ipython2",
   "version": "2.7.6"
  }
 },
 "nbformat": 4,
 "nbformat_minor": 5
}
